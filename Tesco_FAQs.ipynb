{
 "cells": [
  {
   "cell_type": "code",
   "execution_count": 1,
   "id": "f6ee36e2-f442-4957-8968-28b26e4c9ad6",
   "metadata": {},
   "outputs": [],
   "source": [
    "! pip install -q langchain faiss-cpu InstructorEmbedding"
   ]
  },
  {
   "cell_type": "code",
   "execution_count": 2,
   "id": "6f8cd9bc-63db-4955-bce5-6e27e5b24731",
   "metadata": {},
   "outputs": [],
   "source": [
    "! pip install -U -q sentence-transformers"
   ]
  },
  {
   "cell_type": "code",
   "execution_count": 3,
   "id": "fd790c00-52af-4eb8-9d4e-5ddd1c4091d0",
   "metadata": {},
   "outputs": [],
   "source": [
    "! pip install -q google-generativeai"
   ]
  },
  {
   "cell_type": "code",
   "execution_count": 4,
   "id": "cef8a7f5-b515-42b2-9714-52efec31df7c",
   "metadata": {},
   "outputs": [],
   "source": [
    "from langchain.vectorstores import FAISS\n",
    "from langchain.llms import GooglePalm\n",
    "from langchain.document_loaders.csv_loader import CSVLoader\n",
    "from langchain.embeddings import HuggingFaceInstructEmbeddings\n",
    "from langchain.prompts import PromptTemplate\n",
    "from langchain.chains import RetrievalQA"
   ]
  },
  {
   "cell_type": "code",
   "execution_count": 5,
   "id": "79aaedda-c057-4a25-8e51-7f5addbf285a",
   "metadata": {},
   "outputs": [
    {
     "data": {
      "application/vnd.jupyter.widget-view+json": {
       "model_id": "6a7457e18949430f8e1b294b553c4f2a",
       "version_major": 2,
       "version_minor": 0
      },
      "text/plain": [
       ".gitattributes:   0%|          | 0.00/1.48k [00:00<?, ?B/s]"
      ]
     },
     "metadata": {},
     "output_type": "display_data"
    },
    {
     "data": {
      "application/vnd.jupyter.widget-view+json": {
       "model_id": "baae3ec1f66e4aa5a3a747d73f184a95",
       "version_major": 2,
       "version_minor": 0
      },
      "text/plain": [
       "1_Pooling/config.json:   0%|          | 0.00/270 [00:00<?, ?B/s]"
      ]
     },
     "metadata": {},
     "output_type": "display_data"
    },
    {
     "data": {
      "application/vnd.jupyter.widget-view+json": {
       "model_id": "69198c32838646f7b2fa23e8730f1595",
       "version_major": 2,
       "version_minor": 0
      },
      "text/plain": [
       "2_Dense/config.json:   0%|          | 0.00/116 [00:00<?, ?B/s]"
      ]
     },
     "metadata": {},
     "output_type": "display_data"
    },
    {
     "data": {
      "application/vnd.jupyter.widget-view+json": {
       "model_id": "dbd18504e6e24af5b47242b2baf0a203",
       "version_major": 2,
       "version_minor": 0
      },
      "text/plain": [
       "pytorch_model.bin:   0%|          | 0.00/3.15M [00:00<?, ?B/s]"
      ]
     },
     "metadata": {},
     "output_type": "display_data"
    },
    {
     "data": {
      "application/vnd.jupyter.widget-view+json": {
       "model_id": "0e50a14c633b4dd9aaeaaea146b64692",
       "version_major": 2,
       "version_minor": 0
      },
      "text/plain": [
       "README.md:   0%|          | 0.00/66.3k [00:00<?, ?B/s]"
      ]
     },
     "metadata": {},
     "output_type": "display_data"
    },
    {
     "data": {
      "application/vnd.jupyter.widget-view+json": {
       "model_id": "c4f21d64b62649ac8d31e75cd300de5c",
       "version_major": 2,
       "version_minor": 0
      },
      "text/plain": [
       "config.json:   0%|          | 0.00/1.53k [00:00<?, ?B/s]"
      ]
     },
     "metadata": {},
     "output_type": "display_data"
    },
    {
     "data": {
      "application/vnd.jupyter.widget-view+json": {
       "model_id": "99a581968b8948a1950674b32e3a9ba8",
       "version_major": 2,
       "version_minor": 0
      },
      "text/plain": [
       "config_sentence_transformers.json:   0%|          | 0.00/122 [00:00<?, ?B/s]"
      ]
     },
     "metadata": {},
     "output_type": "display_data"
    },
    {
     "data": {
      "application/vnd.jupyter.widget-view+json": {
       "model_id": "b776212be8d24f5d82bb933c1a85ee78",
       "version_major": 2,
       "version_minor": 0
      },
      "text/plain": [
       "pytorch_model.bin:   0%|          | 0.00/1.34G [00:00<?, ?B/s]"
      ]
     },
     "metadata": {},
     "output_type": "display_data"
    },
    {
     "data": {
      "application/vnd.jupyter.widget-view+json": {
       "model_id": "31862ab1833542d88b823f2236feeb86",
       "version_major": 2,
       "version_minor": 0
      },
      "text/plain": [
       "sentence_bert_config.json:   0%|          | 0.00/53.0 [00:00<?, ?B/s]"
      ]
     },
     "metadata": {},
     "output_type": "display_data"
    },
    {
     "data": {
      "application/vnd.jupyter.widget-view+json": {
       "model_id": "47e1f6c440364979b19334bf1b14432c",
       "version_major": 2,
       "version_minor": 0
      },
      "text/plain": [
       "special_tokens_map.json:   0%|          | 0.00/2.20k [00:00<?, ?B/s]"
      ]
     },
     "metadata": {},
     "output_type": "display_data"
    },
    {
     "data": {
      "application/vnd.jupyter.widget-view+json": {
       "model_id": "22e91e9b5548471d8d235b31e78ce43d",
       "version_major": 2,
       "version_minor": 0
      },
      "text/plain": [
       "spiece.model:   0%|          | 0.00/792k [00:00<?, ?B/s]"
      ]
     },
     "metadata": {},
     "output_type": "display_data"
    },
    {
     "data": {
      "application/vnd.jupyter.widget-view+json": {
       "model_id": "6ac60678c7ba40b7a7530c9d7008cd90",
       "version_major": 2,
       "version_minor": 0
      },
      "text/plain": [
       "tokenizer.json:   0%|          | 0.00/2.42M [00:00<?, ?B/s]"
      ]
     },
     "metadata": {},
     "output_type": "display_data"
    },
    {
     "data": {
      "application/vnd.jupyter.widget-view+json": {
       "model_id": "32becd6d322c4e55ae47a02a10617454",
       "version_major": 2,
       "version_minor": 0
      },
      "text/plain": [
       "tokenizer_config.json:   0%|          | 0.00/2.41k [00:00<?, ?B/s]"
      ]
     },
     "metadata": {},
     "output_type": "display_data"
    },
    {
     "data": {
      "application/vnd.jupyter.widget-view+json": {
       "model_id": "b1484343c5d24649a55f8d8eaa3e8467",
       "version_major": 2,
       "version_minor": 0
      },
      "text/plain": [
       "modules.json:   0%|          | 0.00/461 [00:00<?, ?B/s]"
      ]
     },
     "metadata": {},
     "output_type": "display_data"
    },
    {
     "name": "stdout",
     "output_type": "stream",
     "text": [
      "load INSTRUCTOR_Transformer\n",
      "max_seq_length  512\n"
     ]
    }
   ],
   "source": [
    "api_key = 'Enter you api key here'\n",
    "\n",
    "llm = GooglePalm(google_api_key=api_key, temperature=0.1)\n",
    "\n",
    "# # Initialize instructor embeddings using the Hugging Face model\n",
    "instructor_embeddings = HuggingFaceInstructEmbeddings()\n",
    "vectordb_file_path = \"faiss_index_2\"\n",
    "\n",
    "def create_vector_db():\n",
    "    # Load data from FAQ sheet\n",
    "    loader = CSVLoader(file_path='fact-base-tesco.csv', source_column=\"Question\")\n",
    "    data = loader.load()\n",
    "\n",
    "    # Create a FAISS instance for vector database from 'data'\n",
    "    vectordb = FAISS.from_documents(documents=data,\n",
    "                                    embedding=instructor_embeddings)\n",
    "\n",
    "    # Save vector database locally\n",
    "    vectordb.save_local(vectordb_file_path)\n",
    "\n",
    "\n",
    "def get_qa_chain():\n",
    "    # Load the vector database from the local folder\n",
    "    vectordb = FAISS.load_local(vectordb_file_path, instructor_embeddings)\n",
    "\n",
    "    # Create a retriever for querying the vector database\n",
    "    retriever = vectordb.as_retriever(score_threshold=0.7)\n",
    "\n",
    "    prompt_template = \"\"\"Given the following context and a question, generate an answer based on this context only.\n",
    "    In the answer try to provide as much text as possible from \"Answer\" section in the source document context without making much changes.\n",
    "    If the answer is not found in the context, kindly state \"I don't know.\" Don't try to make up an answer.\n",
    "\n",
    "    CONTEXT: {context}\n",
    "\n",
    "    QUESTION: {question}\"\"\"\n",
    "\n",
    "    PROMPT = PromptTemplate(\n",
    "        template=prompt_template, input_variables=[\"context\", \"question\"]\n",
    "    )\n",
    "\n",
    "    chain = RetrievalQA.from_chain_type(llm=llm,\n",
    "                                        chain_type=\"stuff\",\n",
    "                                        retriever=retriever,\n",
    "                                        input_key=\"query\",\n",
    "                                        return_source_documents=True,\n",
    "                                        chain_type_kwargs={\"prompt\": PROMPT})\n",
    "\n",
    "    return chain"
   ]
  },
  {
   "cell_type": "code",
   "execution_count": 6,
   "id": "bd5bd640-2b3d-48ec-b76f-27b91743a6c1",
   "metadata": {},
   "outputs": [],
   "source": [
    "create_vector_db()"
   ]
  },
  {
   "cell_type": "code",
   "execution_count": 179,
   "id": "904399e6-3353-441d-8873-93422d6c40a3",
   "metadata": {},
   "outputs": [],
   "source": [
    "question = \"Can I send my child to pick my order?\"\n",
    "chain = get_qa_chain()\n",
    "response = chain(question)"
   ]
  },
  {
   "cell_type": "code",
   "execution_count": 180,
   "id": "e2dff361-efdc-4b0a-a65b-56d886d8bf53",
   "metadata": {},
   "outputs": [
    {
     "name": "stdout",
     "output_type": "stream",
     "text": [
      "Yes, you can send your child to collect your order as long as they are over the age of 16 and have a valid ID.\n"
     ]
    }
   ],
   "source": [
    "print(response[\"result\"])"
   ]
  }
 ],
 "metadata": {
  "kernelspec": {
   "display_name": "Python 3 (ipykernel)",
   "language": "python",
   "name": "python3"
  },
  "language_info": {
   "codemirror_mode": {
    "name": "ipython",
    "version": 3
   },
   "file_extension": ".py",
   "mimetype": "text/x-python",
   "name": "python",
   "nbconvert_exporter": "python",
   "pygments_lexer": "ipython3",
   "version": "3.11.5"
  }
 },
 "nbformat": 4,
 "nbformat_minor": 5
}
